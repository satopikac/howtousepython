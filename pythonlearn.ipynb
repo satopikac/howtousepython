{
 "cells": [
  {
   "cell_type": "code",
   "execution_count": 3,
   "id": "initial_id",
   "metadata": {
    "collapsed": true,
    "ExecuteTime": {
     "end_time": "2024-07-07T12:23:28.109699100Z",
     "start_time": "2024-07-07T12:23:28.101370Z"
    }
   },
   "outputs": [
    {
     "name": "stdout",
     "output_type": "stream",
     "text": [
      "22 -2 120 0.8333333333333334\n"
     ]
    }
   ],
   "source": [
    "# 四则运算\n",
    "def arithmetic_operations(a,b):\n",
    "    add=a+b\n",
    "    sub=a-b\n",
    "    mul=a*b\n",
    "    div=a/b\n",
    "    return add,sub,mul,div\n",
    "\n",
    "a=10\n",
    "b=12\n",
    "result=arithmetic_operations(a,b)\n",
    "print(result[0],result[1],result[2],result[3])\n"
   ]
  },
  {
   "cell_type": "code",
   "outputs": [
    {
     "name": "stdout",
     "output_type": "stream",
     "text": [
      "[[11, 8, 11], [6, 8, 13], [12, 11, 16]]\n"
     ]
    }
   ],
   "source": [
    "# 矩阵乘法\n",
    "def matrix_mul(A,B):\n",
    "    #检查矩阵形状是否满足可乘条件 前一个矩阵的列数等于后一个矩阵的行数\n",
    "    #A的列数 len(A[0]) 第一行的元素个数     B的行数 len(B)\n",
    "    if len(A[0])!=len(B):\n",
    "        raise ValueError(\"Error: check matrix size\")\n",
    "    else:\n",
    "        C=[[0]*len(B[0])  for i in range(len(A))]\n",
    "        \n",
    "        #C的i行j列元素是 A的i行与B的j列做内积\n",
    "        for i in range(len(A)):\n",
    "            \n",
    "            for j in range(len(B[0])):\n",
    "                \n",
    "                #内积\n",
    "                for k in range(len(B[0])):\n",
    "                    C[i][j]+=A[i][k]*B[k][j]\n",
    "    return C\n",
    "A=[[1,2,4],[2,3,1],[2,3,4]]\n",
    "B=[[-1,2,3],[2,1,2],[2,1,1]]\n",
    "\n",
    "print(matrix_mul(A,B))\n",
    "        "
   ],
   "metadata": {
    "collapsed": false,
    "ExecuteTime": {
     "end_time": "2024-07-07T12:36:02.238479200Z",
     "start_time": "2024-07-07T12:36:02.232942700Z"
    }
   },
   "id": "bc5beb71a7ffa88",
   "execution_count": 6
  },
  {
   "cell_type": "code",
   "outputs": [
    {
     "ename": "AssertionError",
     "evalue": "",
     "output_type": "error",
     "traceback": [
      "\u001B[1;31m---------------------------------------------------------------------------\u001B[0m",
      "\u001B[1;31mAssertionError\u001B[0m                            Traceback (most recent call last)",
      "Cell \u001B[1;32mIn[7], line 5\u001B[0m\n\u001B[0;32m      3\u001B[0m     \u001B[38;5;28;01massert\u001B[39;00m b\u001B[38;5;241m!=\u001B[39m\u001B[38;5;241m0\u001B[39m\n\u001B[0;32m      4\u001B[0m     \u001B[38;5;28;01mreturn\u001B[39;00m a\u001B[38;5;241m/\u001B[39mb\n\u001B[1;32m----> 5\u001B[0m result\u001B[38;5;241m=\u001B[39mdivide(\u001B[38;5;241m10\u001B[39m,\u001B[38;5;241m0\u001B[39m)\n\u001B[0;32m      6\u001B[0m \u001B[38;5;28mprint\u001B[39m(result)\n",
      "Cell \u001B[1;32mIn[7], line 3\u001B[0m, in \u001B[0;36mdivide\u001B[1;34m(a, b)\u001B[0m\n\u001B[0;32m      2\u001B[0m \u001B[38;5;28;01mdef\u001B[39;00m \u001B[38;5;21mdivide\u001B[39m(a,b):\n\u001B[1;32m----> 3\u001B[0m     \u001B[38;5;28;01massert\u001B[39;00m b\u001B[38;5;241m!=\u001B[39m\u001B[38;5;241m0\u001B[39m\n\u001B[0;32m      4\u001B[0m     \u001B[38;5;28;01mreturn\u001B[39;00m a\u001B[38;5;241m/\u001B[39mb\n",
      "\u001B[1;31mAssertionError\u001B[0m: "
     ]
    }
   ],
   "source": [
    "# assert 插入断言\n",
    "def divide(a,b):\n",
    "    assert b!=0\n",
    "    return a/b\n",
    "result=divide(10,0)\n",
    "print(result)"
   ],
   "metadata": {
    "collapsed": false,
    "ExecuteTime": {
     "end_time": "2024-07-07T12:37:56.037396500Z",
     "start_time": "2024-07-07T12:37:55.444209100Z"
    }
   },
   "id": "633b6e6e90cfa8b0",
   "execution_count": 7
  },
  {
   "cell_type": "code",
   "outputs": [
    {
     "name": "stdout",
     "output_type": "stream",
     "text": [
      "the value is 9.2\n"
     ]
    }
   ],
   "source": [
    "# 计算两个向量的内积\n",
    "def inner_prod(a,b):\n",
    "    \"\"\"\n",
    "    \n",
    "    :param a: 一个向量 \n",
    "    :param b: 另一个向量\n",
    "    :return: 返回两个向量的内积\n",
    "    \"\"\"\n",
    "    #检查两个向量的长度是否一致\n",
    "    if len(a)!=len(b):\n",
    "        raise ValueError(\"向量长度不同\")\n",
    "    \n",
    "    result=0\n",
    "    for i in range(len(a)):\n",
    "        result+=a[i]*b[i]\n",
    "    \n",
    "    return result\n",
    "\n",
    "a=[1.2,4,2]\n",
    "b=[1,1,2]\n",
    "print(f\"the value is {inner_prod(a,b)}\")"
   ],
   "metadata": {
    "collapsed": false,
    "ExecuteTime": {
     "end_time": "2024-07-07T12:43:06.643652500Z",
     "start_time": "2024-07-07T12:43:06.634561100Z"
    }
   },
   "id": "597d46fc01d72bc5",
   "execution_count": 10
  },
  {
   "cell_type": "code",
   "outputs": [
    {
     "name": "stdout",
     "output_type": "stream",
     "text": [
      "80\n",
      "[[ 441  893]\n",
      " [ 903 1819]]\n",
      "[[  10   14  100  140]\n",
      " [ 100  140 1000 1400]\n",
      " [  11   16  110  160]\n",
      " [ 140  200 1400 2000]]\n"
     ]
    }
   ],
   "source": [
    "import numpy as np\n",
    "a=np.array([1,2,3,4,5])\n",
    "b=np.array([6,7,8,9,0])\n",
    "\n",
    "dot_prod=np.dot(a,b)\n",
    "print(dot_prod)\n",
    "\n",
    "A=np.array([[1,2,10,20],[3,4,30,40]])\n",
    "B=np.array([[1,3],[10,30],[2,3],[20,40]])\n",
    "\n",
    "C=A@B;print(C)\n",
    "D=B@A;print(D)\n"
   ],
   "metadata": {
    "collapsed": false,
    "ExecuteTime": {
     "end_time": "2024-07-07T12:54:04.543562200Z",
     "start_time": "2024-07-07T12:54:04.539237900Z"
    }
   },
   "id": "338f4ebe8ffc548c",
   "execution_count": 18
  },
  {
   "cell_type": "code",
   "outputs": [
    {
     "name": "stdout",
     "output_type": "stream",
     "text": [
      "--- 0.004004716873168945 seconds ---\n",
      "[[3867 3913 4081 ... 4065 4404 4340]\n",
      " [4050 4385 4166 ... 4364 4654 4653]\n",
      " [3764 3814 3725 ... 3999 4228 4021]\n",
      " ...\n",
      " [3820 3973 3994 ... 3985 4304 4233]\n",
      " [4023 4035 4072 ... 4192 4386 4452]\n",
      " [4107 4174 4205 ... 4268 4575 4397]]\n",
      "--- 5.51157546043396 seconds ---\n"
     ]
    }
   ],
   "source": [
    "# 比较自带运算方法与手动运算方法的时间差异\n",
    "from numpy.random import randint\n",
    "\n",
    "num=200\n",
    "A=randint(0,10,size=(num,num))\n",
    "B=randint(0,10,(num,num))\n",
    "\n",
    "import  time\n",
    "start_time=time.time()\n",
    "C=A@B\n",
    "end_time=time.time()\n",
    "time_used=end_time-start_time\n",
    "\n",
    "print(\"--- %s seconds ---\" %time_used)\n",
    "print(C)\n",
    "\n",
    "C = np.zeros((num,num))\n",
    "# num * num大小全0方阵\n",
    "# 手动计算矩阵乘法\n",
    "start_time = time.time() # 开始时刻\n",
    "for i in range(len(A)):\n",
    " for j in range(len(B[0])):\n",
    "  for k in range(len(B)):\n",
    "    C[i][j] += A[i][k] * B[k][j]\n",
    "stop_time=time.time()\n",
    "time_used = stop_time - start_time\n",
    "print(\"--- %s seconds ---\" %time_used)\n"
   ],
   "metadata": {
    "collapsed": false,
    "ExecuteTime": {
     "end_time": "2024-07-07T13:00:03.268526100Z",
     "start_time": "2024-07-07T12:59:57.747657100Z"
    }
   },
   "id": "a46df5d78810f3ee",
   "execution_count": 20
  },
  {
   "cell_type": "code",
   "outputs": [
    {
     "name": "stdout",
     "output_type": "stream",
     "text": [
      "[[1, 2, 4], [2, 3, 2], [3, 4, 1]]\n"
     ]
    }
   ],
   "source": [
    "#矩阵转置\n",
    "def transpose(matrix):\n",
    "    transposed=[]\n",
    "    rows=len(matrix)\n",
    "    cols=len(matrix[0])\n",
    "    \n",
    "    for j in range(cols):\n",
    "        transposed_row=[matrix[i][j] for i in range(rows)]\n",
    "        transposed.append(transposed_row)\n",
    "        \n",
    "    return transposed\n",
    "\n",
    "A=[[1,2,3],[2,3,4],[4,2,1]]\n",
    "B=transpose(A)\n",
    "print(B)"
   ],
   "metadata": {
    "collapsed": false,
    "ExecuteTime": {
     "end_time": "2024-07-07T13:08:23.268673600Z",
     "start_time": "2024-07-07T13:08:23.259858600Z"
    }
   },
   "id": "c820bb1d431aeb7f",
   "execution_count": 22
  },
  {
   "cell_type": "code",
   "outputs": [
    {
     "name": "stdout",
     "output_type": "stream",
     "text": [
      "1\n"
     ]
    }
   ],
   "source": [
    "# 阶乘\n",
    "def f(n):\n",
    "    if n==0 or n==1:\n",
    "        return 1\n",
    "    else:\n",
    "        return f(n-1)*n\n",
    "    \n",
    "print(f(1))"
   ],
   "metadata": {
    "collapsed": false,
    "ExecuteTime": {
     "end_time": "2024-07-07T13:16:58.778812700Z",
     "start_time": "2024-07-07T13:16:58.770509300Z"
    }
   },
   "id": "6fb68b88532032de",
   "execution_count": 27
  },
  {
   "cell_type": "code",
   "outputs": [],
   "source": [
    "import numpy as np\n",
    "??np.sin"
   ],
   "metadata": {
    "collapsed": false,
    "ExecuteTime": {
     "end_time": "2024-07-07T13:25:00.900164300Z",
     "start_time": "2024-07-07T13:25:00.880146900Z"
    }
   },
   "id": "7972bef3f5dbc3a7",
   "execution_count": 30
  },
  {
   "cell_type": "code",
   "outputs": [
    {
     "name": "stdout",
     "output_type": "stream",
     "text": [
      "452.3893421169302\n",
      "75.39822368615503\n"
     ]
    }
   ],
   "source": [
    "from numpy import pi\n",
    "class Circle:\n",
    "    #构造函数\n",
    "    def __init__(self,radius):\n",
    "        self.radius=radius\n",
    "    \n",
    "    # 求面积\n",
    "    def area(self):\n",
    "        return pi*self.radius*self.radius\n",
    "    \n",
    "    def length(self):\n",
    "        return 2*pi*self.radius\n",
    "\n",
    "cir_1=Circle(12)\n",
    "print(cir_1.area())\n",
    "print(cir_1.length())"
   ],
   "metadata": {
    "collapsed": false,
    "ExecuteTime": {
     "end_time": "2024-07-07T13:33:31.073640Z",
     "start_time": "2024-07-07T13:33:31.069637500Z"
    }
   },
   "id": "2797e79bc529c532",
   "execution_count": 31
  },
  {
   "cell_type": "code",
   "outputs": [],
   "source": [],
   "metadata": {
    "collapsed": false
   },
   "id": "b55fced5b881dfd1"
  }
 ],
 "metadata": {
  "kernelspec": {
   "display_name": "Python 3",
   "language": "python",
   "name": "python3"
  },
  "language_info": {
   "codemirror_mode": {
    "name": "ipython",
    "version": 2
   },
   "file_extension": ".py",
   "mimetype": "text/x-python",
   "name": "python",
   "nbconvert_exporter": "python",
   "pygments_lexer": "ipython2",
   "version": "2.7.6"
  }
 },
 "nbformat": 4,
 "nbformat_minor": 5
}
